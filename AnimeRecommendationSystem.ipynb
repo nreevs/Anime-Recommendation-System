{
 "cells": [
  {
   "cell_type": "code",
   "execution_count": null,
   "id": "9f7fbe3a",
   "metadata": {},
   "outputs": [],
   "source": [
    "#Importing required libraries\n",
    "\n",
    "import pandas as pd\n",
    "import numpy as np\n",
    "import seaborn as sns\n",
    "from sklearn.model_selection import train_test_split\n",
    "from scipy.sparse import csr_matrix\n",
    "from sklearn.neighbors import NearestNeighbors\n",
    "from sklearn.metrics import mean_absolute_error, mean_squared_error"
   ]
  },
  {
   "cell_type": "code",
   "execution_count": null,
   "id": "dd6817e1",
   "metadata": {},
   "outputs": [],
   "source": [
    "#Reading .csv files\n",
    "\n",
    "anime_df = pd.read_csv('anime.csv')\n",
    "rating_df = pd.read_csv('rating.csv')"
   ]
  },
  {
   "cell_type": "code",
   "execution_count": null,
   "id": "c4f79efb",
   "metadata": {},
   "outputs": [],
   "source": [
    "anime_df.head()"
   ]
  },
  {
   "cell_type": "code",
   "execution_count": null,
   "id": "a88e5766",
   "metadata": {},
   "outputs": [],
   "source": [
    "rating_df.head()"
   ]
  },
  {
   "cell_type": "code",
   "execution_count": null,
   "id": "2352b2e7",
   "metadata": {},
   "outputs": [],
   "source": [
    "df = pd.merge(rating_df,anime_df.drop('rating',axis=1),on='anime_id')"
   ]
  },
  {
   "cell_type": "code",
   "execution_count": null,
   "id": "190061d7",
   "metadata": {},
   "outputs": [],
   "source": [
    "df.head()"
   ]
  },
  {
   "cell_type": "code",
   "execution_count": null,
   "id": "aa6b4c8a",
   "metadata": {},
   "outputs": [],
   "source": [
    "print(df.nunique(axis=0))\n",
    "sns.barplot(x = df.columns, y = df.nunique(axis=0))"
   ]
  },
  {
   "cell_type": "code",
   "execution_count": null,
   "id": "806b5585",
   "metadata": {},
   "outputs": [],
   "source": [
    "#Spliting data into train and test data set\n",
    "\n",
    "train, test = train_test_split(df, test_size=0.2, random_state=42)\n",
    "\n",
    "train.head()"
   ]
  },
  {
   "cell_type": "code",
   "execution_count": null,
   "id": "6a3977f8",
   "metadata": {},
   "outputs": [],
   "source": [
    "test.head()"
   ]
  },
  {
   "cell_type": "code",
   "execution_count": null,
   "id": "a028fc90",
   "metadata": {},
   "outputs": [],
   "source": [
    "finalRating = pd.DataFrame(df.groupby('name')['rating'].mean())\n",
    "finalRating['totalRating'] = pd.DataFrame(df.groupby('name')['rating'].count())\n",
    "finalRating.head()"
   ]
  },
  {
   "cell_type": "code",
   "execution_count": null,
   "id": "28843c29",
   "metadata": {},
   "outputs": [],
   "source": [
    "#Plotting the rating and total rating from the dfRating\n",
    "\n",
    "sns.jointplot(x='totalRating',y='rating',data=finalRating,alpha=1)"
   ]
  },
  {
   "cell_type": "code",
   "execution_count": null,
   "id": "0d6594cc",
   "metadata": {},
   "outputs": [],
   "source": [
    "#Creating the pivot table for reorganizing the data and summarizing the rating of anime for each user.\n",
    "\n",
    "animePivot = df.pivot_table(index='name',columns='user_id',values='rating').fillna(0)\n"
   ]
  },
  {
   "cell_type": "code",
   "execution_count": null,
   "id": "d4ae0a30",
   "metadata": {},
   "outputs": [],
   "source": [
    "animePivot"
   ]
  },
  {
   "cell_type": "code",
   "execution_count": null,
   "id": "c1b85a3e",
   "metadata": {},
   "outputs": [],
   "source": [
    "#Defining the KNN model with sparse matrix and brute algorithm.\n",
    "\n",
    "sparseAnime=csr_matrix(animePivot)\n",
    "model=NearestNeighbors(algorithm='brute')\n",
    "model.fit(sparseAnime)"
   ]
  },
  {
   "cell_type": "code",
   "execution_count": null,
   "id": "d2912ebd",
   "metadata": {},
   "outputs": [],
   "source": [
    "#Defining the recommendation system method and course name as parameter.\n",
    "\n",
    "def animeRecommendation(name):\n",
    "    try:\n",
    "        user_id=np.where(animePivot.index.str.lower()==name.lower())[0][0]\n",
    "        distances, suggestions=model.kneighbors(animePivot.iloc[user_id,:].values.reshape(1,-1), n_neighbors=5)\n",
    "        \n",
    "        for i in range(len(suggestions)):\n",
    "            print(\"Some recommendations for\", name,\"are:\")\n",
    "            print(animePivot.index[suggestions[i]])\n",
    "    except:\n",
    "        print(\"Sorry! couldn't find recommendation for the anime:\",name)"
   ]
  },
  {
   "cell_type": "code",
   "execution_count": null,
   "id": "81e32842",
   "metadata": {},
   "outputs": [],
   "source": [
    "finalRating.sort_values('totalRating',ascending=False).head(30)"
   ]
  },
  {
   "cell_type": "code",
   "execution_count": null,
   "id": "962663db",
   "metadata": {},
   "outputs": [],
   "source": [
    "#Taking user input for anime recommendation.\n",
    "\n",
    "chooseAnime = input(\"Enter one anime: \")\n",
    "print ('Selected anime:', chooseAnime)"
   ]
  },
  {
   "cell_type": "code",
   "execution_count": null,
   "id": "87cb3dba",
   "metadata": {},
   "outputs": [],
   "source": [
    "#Calling the recommendation method with user input\n",
    "\n",
    "animeRecommendation(chooseAnime)"
   ]
  },
  {
   "cell_type": "code",
   "execution_count": null,
   "id": "abfa1997",
   "metadata": {},
   "outputs": [],
   "source": []
  }
 ],
 "metadata": {
  "kernelspec": {
   "display_name": "Python 3 (ipykernel)",
   "language": "python",
   "name": "python3"
  },
  "language_info": {
   "codemirror_mode": {
    "name": "ipython",
    "version": 3
   },
   "file_extension": ".py",
   "mimetype": "text/x-python",
   "name": "python",
   "nbconvert_exporter": "python",
   "pygments_lexer": "ipython3",
   "version": "3.9.6"
  }
 },
 "nbformat": 4,
 "nbformat_minor": 5
}
